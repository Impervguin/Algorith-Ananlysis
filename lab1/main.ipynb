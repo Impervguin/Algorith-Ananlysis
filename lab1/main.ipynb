{
 "cells": [
  {
   "cell_type": "code",
   "execution_count": 2,
   "metadata": {},
   "outputs": [],
   "source": [
    "# Constants\n",
    "NANO_TO_MILLI = 1_000_000\n",
    "NANO_TO_MICRO = 1_000\n",
    "minLength = 2\n",
    "maxLength = 10\n",
    "testCount = 100\n",
    "\n",
    "# Imports\n",
    "import time\n",
    "import string\n",
    "import random\n",
    "import tracemalloc\n",
    "from prettytable import PrettyTable\n",
    "import plotly as plt\n",
    "from algo import *"
   ]
  },
  {
   "cell_type": "markdown",
   "metadata": {},
   "source": [
    "# Тесты функций"
   ]
  },
  {
   "cell_type": "code",
   "execution_count": null,
   "metadata": {},
   "outputs": [],
   "source": [
    "testTable = PrettyTable()\n",
    "testTable.field_names = [\"№\", \"Ожидаемое расстояние\", \"Ожидаемое Дамерау\",  \"Расстояние рекурсия\", \"Расстояние Кэш\", \"Дамерау Кэш\"]\n",
    "tests = [\n",
    "    (\"дмитрий\", \"андрей\", 5, 5),\n",
    "    (\"река\", \"мука\", 2, 2),\n",
    "    (\"1234\", \"2143\", 3, 2)\n",
    "    ]\n",
    "\n",
    "for i in range(len(tests)):\n",
    "    t = tests[i]\n",
    "    testTable.add_row([i + 1, t[2], t[3], RecursiveLevenshtein(t[0], t[1]), CacheLevenshtein(t[0], t[1]), CacheDamerauLevenshtein(t[0], t[1])])\n",
    "\n",
    "print(testTable)"
   ]
  },
  {
   "cell_type": "markdown",
   "metadata": {},
   "source": [
    "# Тестирование по времени"
   ]
  },
  {
   "cell_type": "code",
   "execution_count": null,
   "metadata": {},
   "outputs": [],
   "source": [
    "random.seed(time.time())\n",
    "\n",
    "recursiveTests = {}\n",
    "cacheTests = {}\n",
    "\n",
    "for i in range(minLength, maxLength + 1):\n",
    "    s1 = ''.join(random.choices(string.ascii_letters, k=i))\n",
    "    s2 = ''.join(random.choices(string.ascii_letters, k=i))\n",
    "    start = time.process_time_ns()\n",
    "    for _ in range(testCount):\n",
    "        _ = RecursiveLevenshtein(s1, s2)\n",
    "    end = time.process_time_ns()\n",
    "    recursiveTests[i] = (end - start) // i\n",
    "\n",
    "\n",
    "    start = time.process_time_ns()\n",
    "    for _ in range(testCount):\n",
    "        _ = CacheLevenshtein(s1, s2)\n",
    "    end = time.process_time_ns()\n",
    "    cacheTests[i] = (end - start) // i\n",
    "\n",
    "timeTable = PrettyTable()\n",
    "timeTable.field_names = [\"Длина строки\", \"Рекурсивный\", \"С кешированием\"]\n",
    "for i in range(minLength, maxLength + 1):\n",
    "    timeTable.add_row([i, str(recursiveTests[i] // NANO_TO_MICRO) + \"мкс\", str(cacheTests[i] // NANO_TO_MICRO) + \"мкс\"])\n",
    "\n",
    "print(timeTable)\n",
    "\n",
    "\n",
    "graph = plt.graph_objs.Figure()\n",
    "graph.add_scatter(x=list(range(minLength, maxLength + 1)), y=[recursiveTests[i] / NANO_TO_MICRO for i in recursiveTests], name=\"Рекурсивная реализация\")\n",
    "graph.add_scatter(x=list(range(minLength, maxLength + 1)), y=[cacheTests[i] / NANO_TO_MICRO for i in cacheTests], name=\"Реализация с кешэм\")\n",
    "graph.update_layout(xaxis_title=\"Длина строки\", yaxis_title=\"Время вычисления, мкс\")\n",
    "graph.show()"
   ]
  },
  {
   "cell_type": "markdown",
   "metadata": {},
   "source": [
    "# Тестирование по памяти"
   ]
  },
  {
   "cell_type": "code",
   "execution_count": null,
   "metadata": {},
   "outputs": [],
   "source": [
    "testCount = 10\n",
    "recursiveMemory = {}\n",
    "cacheMemory = {}\n",
    "# Memory\n",
    "for i in range(minLength, maxLength + 1):\n",
    "    # рекурсивная реализация зависит от строки, так как строит дерево рекурсивных вызовов\n",
    "    recursiveMemory[i] = 0\n",
    "    for _ in range(testCount):\n",
    "        s1 = ''.join(random.choices(string.ascii_letters, k=i))\n",
    "        s2 = ''.join(random.choices(string.ascii_letters, k=i))\n",
    "        tracemalloc.start()\n",
    "        _ = RecursiveLevenshtein(s1, s2)\n",
    "        recursiveMemory[i] += tracemalloc.get_traced_memory()[1]\n",
    "        tracemalloc.stop()\n",
    "    recursiveMemory[i] //= testCount\n",
    "\n",
    "    # Кэш всегда одинаковый по памяти, не зависимо от строки\n",
    "    tracemalloc.start()\n",
    "    _ = CacheLevenshtein(s1, s2)\n",
    "    cacheMemory[i] = tracemalloc.get_traced_memory()[1]\n",
    "    tracemalloc.stop()\n",
    "\n",
    "\n",
    "memTable = PrettyTable()\n",
    "memTable.field_names = [\"Длина строки\", \"Рекурсивный\", \"С кешированием\"]\n",
    "for i in range(minLength, maxLength + 1):\n",
    "    memTable.add_row([i, str(recursiveMemory[i]) + \" байт\", str(cacheMemory[i]) + \" байт\"])\n",
    "\n",
    "print(memTable)\n",
    "\n",
    "\n",
    "graph = plt.graph_objs.Figure()\n",
    "graph.add_scatter(x=list(range(minLength, maxLength + 1)), y=[recursiveMemory[i] for i in recursiveMemory], name=\"Рекурсивная реализация\")\n",
    "graph.add_scatter(x=list(range(minLength, maxLength + 1)), y=[cacheMemory[i] for i in cacheMemory], name=\"Реализация с кешэм\")\n",
    "graph.update_layout(xaxis_title=\"Длина строки\", yaxis_title=\"Пиковая память, байт\")\n",
    "graph.show()"
   ]
  }
 ],
 "metadata": {
  "kernelspec": {
   "display_name": "Python 3",
   "language": "python",
   "name": "python3"
  },
  "language_info": {
   "codemirror_mode": {
    "name": "ipython",
    "version": 3
   },
   "file_extension": ".py",
   "mimetype": "text/x-python",
   "name": "python",
   "nbconvert_exporter": "python",
   "pygments_lexer": "ipython3",
   "version": "3.12.6"
  }
 },
 "nbformat": 4,
 "nbformat_minor": 2
}
