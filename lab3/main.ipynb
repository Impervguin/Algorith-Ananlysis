{
 "cells": [
  {
   "cell_type": "markdown",
   "metadata": {},
   "source": [
    "# Модули и константы"
   ]
  },
  {
   "cell_type": "code",
   "execution_count": null,
   "metadata": {},
   "outputs": [],
   "source": [
    "from algo import *\n",
    "from prettytable import PrettyTable\n",
    "import plotly as plt\n",
    "import plotly.io as pio\n",
    "from random import shuffle\n",
    "\n",
    "# N = 50 # Длина массива\n",
    "\n",
    "# Получение размера массива по номеру варианта\n",
    "# Номер задачи в redmine\n",
    "NUM = 8117\n",
    "if NUM >> 2 % 10 == 0:\n",
    "    N = NUM % 1000\n",
    "else:\n",
    "    N = (NUM >> 2) % 10 * (NUM % 10) + (NUM >> 1) % 10\n",
    "N += NUM // 8\n",
    "print(f\"Array size: {N}\")\n"
   ]
  },
  {
   "cell_type": "markdown",
   "metadata": {},
   "source": [
    "# Тестирование функций поиска"
   ]
  },
  {
   "cell_type": "code",
   "execution_count": null,
   "metadata": {},
   "outputs": [],
   "source": [
    "testSize = 1000\n",
    "\n",
    "array = [i for i in range(1, testSize + 1)]\n",
    "\n",
    "# Поиск в пустом массиве\n",
    "if SimpleSearch([], 2)[0] != -1:\n",
    "    print(\"Error on empty array with SimpleSearch!\")\n",
    "    exit(1)\n",
    "\n",
    "if BinarySearch([], 2)[0] != -1:\n",
    "    print(\"Error on empty array with BinarySearch!\")\n",
    "    exit(1)\n",
    "\n",
    "print(\"Empty array test passed!\")\n",
    "\n",
    "# Поиск несуществующего элемента\n",
    "if SimpleSearch(array, testSize + 1000)[0] != -1:\n",
    "    print(\"Error on not existing element with SimpleSearch!\")\n",
    "    exit(1)\n",
    "\n",
    "if BinarySearch([], testSize + 1000)[0] != -1:\n",
    "    print(\"Error on not existing element with BinarySearch!\")\n",
    "    exit(1)\n",
    "\n",
    "print(\"Not existing element test passed!\")\n",
    "\n",
    "# Поиск всех элементов массива\n",
    "arrcp = array.copy()\n",
    "shuffle(arrcp)\n",
    "for el in arrcp:\n",
    "    index, _ = SimpleSearch(array, el)\n",
    "    if index != array.index(el):\n",
    "        print(f\"Error on element {el} with SimpleSearch!\")\n",
    "        break\n",
    "    index, _ = BinarySearch(array, el)\n",
    "    if index != array.index(el):\n",
    "        print(f\"Error on element {el} with BinarySearch!\")\n",
    "        break\n",
    "else:\n",
    "    print(\"All positive tests passed!\")"
   ]
  },
  {
   "cell_type": "markdown",
   "metadata": {},
   "source": [
    "# Поиск полным перебором"
   ]
  },
  {
   "cell_type": "code",
   "execution_count": null,
   "metadata": {},
   "outputs": [],
   "source": [
    "array = [i for i in range(N)]\n",
    "index = [0 for i in range(N + 1)]\n",
    "comparisonCounts = [0 for i in range(N + 1)]\n",
    "\n",
    "for i in range(-1, N):\n",
    "    index[i + 1], comparisonCounts[i + 1] = SimpleSearch(array, i)\n",
    "\n",
    "table = PrettyTable()\n",
    "table.field_names = [\"Индекс\", \"Количество сравнений\"]\n",
    "for i, c in zip(index, comparisonCounts):\n",
    "    table.add_row((i, c))\n",
    "\n",
    "print(table)\n"
   ]
  },
  {
   "cell_type": "markdown",
   "metadata": {},
   "source": [
    "# Гистограмма для поиска полного перебора"
   ]
  },
  {
   "cell_type": "code",
   "execution_count": null,
   "metadata": {},
   "outputs": [],
   "source": [
    "graph = plt.graph_objs.Figure()\n",
    "graph.add_bar(x=[str(el) for el in index], y=comparisonCounts, marker_color=\"#00FFFF\")\n",
    "graph.update_layout(xaxis_title=\"Индекс элемента\", yaxis_title=\"Количество сравнений\")\n",
    "graph.update_layout(title='Гистограмма полного перебора')\n",
    "pio.write_image(graph, \"./Report/images/LScomp.png\", scale=5, width=1076, height=450)\n",
    "graph.show()"
   ]
  },
  {
   "cell_type": "markdown",
   "metadata": {},
   "source": [
    "# Бинарный поиск"
   ]
  },
  {
   "cell_type": "code",
   "execution_count": null,
   "metadata": {},
   "outputs": [],
   "source": [
    "# Для бинарного поиска обязательно, чтобы массив был отсортирован\n",
    "array = [i for i in range(N)]\n",
    "index = [0 for i in range(N + 1)]\n",
    "comparisonCounts = [0 for i in range(N + 1)]\n",
    "\n",
    "for i in range(-1, N):\n",
    "    index[i + 1], comparisonCounts[i + 1] = BinarySearch(array, i)\n",
    "\n",
    "table = PrettyTable()\n",
    "table.field_names = [\"Индекс\", \"Количество сравнений\"]\n",
    "for i, c in zip(index, comparisonCounts):\n",
    "    table.add_row((i, c))\n",
    "\n",
    "print(table)"
   ]
  },
  {
   "cell_type": "markdown",
   "metadata": {},
   "source": [
    "# Гистограммы бинарного поиска"
   ]
  },
  {
   "cell_type": "code",
   "execution_count": null,
   "metadata": {},
   "outputs": [],
   "source": [
    "\n",
    "graph = plt.graph_objs.Figure()\n",
    "graph.add_bar(x=[str(el) for el in index], y=comparisonCounts, marker_color='#DC143C')\n",
    "graph.update_layout(xaxis_title=\"Индекс элемента\", yaxis_title=\"Количество сравнений\")\n",
    "graph.update_layout(title='Гистограмма бинарного поиска, отсортированная по индексам')\n",
    "pio.write_image(graph, \"./Report/images/BScomp.png\", scale=5, width=1076, height=450)\n",
    "graph.show()\n",
    "\n",
    "\n",
    "index, comparisonCounts = zip(*sorted(zip(index, comparisonCounts), key=lambda x: x[1]))\n",
    "graph = plt.graph_objs.Figure()\n",
    "graph.add_bar(x=[str(el) for el in index], y=comparisonCounts, marker_color='#32CD32')\n",
    "graph.update_layout(xaxis_title=\"Индекс элемента\", yaxis_title=\"Количество сравнений\")\n",
    "graph.update_layout(xaxis={'categoryorder': 'total ascending'})\n",
    "graph.update_layout(title='Гистограмма бинарного поиска, отсортированная по сравнениям')\n",
    "pio.write_image(graph, \"./Report/images/BScompasc.png\", scale=5, width=1076, height=450)\n",
    "graph.show()"
   ]
  }
 ],
 "metadata": {
  "kernelspec": {
   "display_name": "Python 3",
   "language": "python",
   "name": "python3"
  },
  "language_info": {
   "codemirror_mode": {
    "name": "ipython",
    "version": 3
   },
   "file_extension": ".py",
   "mimetype": "text/x-python",
   "name": "python",
   "nbconvert_exporter": "python",
   "pygments_lexer": "ipython3",
   "version": "3.12.7"
  }
 },
 "nbformat": 4,
 "nbformat_minor": 2
}
