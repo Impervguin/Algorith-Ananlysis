{
 "cells": [
  {
   "cell_type": "code",
   "execution_count": null,
   "metadata": {},
   "outputs": [],
   "source": [
    "import plotly as plt\n",
    "import plotly.io as pio\n",
    "import csv\n",
    "\n",
    "DATA_FILE = 'data.tsv'\n",
    "data = []\n",
    "with open(f\"./{DATA_FILE}\", \"r\", newline=\"\", encoding=\"utf-8\") as f:\n",
    "    reader = csv.DictReader(f, delimiter=\"\\t\")\n",
    "    for row in reader:\n",
    "        data.append(row)\n",
    "        row['size'] = int(row['size'])\n",
    "        row['std'] = float(row['std'])\n",
    "        row['vin'] = float(row['vin'])\n",
    "        row['opt'] = float(row['opt'])\n",
    "\n",
    "\n",
    "\n",
    "graph = plt.graph_objs.Figure()\n",
    "graph.add_scatter(x=[el['size'] for el in data], y=[el['std'] for el in data], name=\"Простой алгоритм умножения\")\n",
    "graph.add_scatter(x=[el['size'] for el in data], y=[el['vin'] for el in data], name=\"Алгоритм Винограда\")\n",
    "graph.add_scatter(x=[el['size'] for el in data], y=[el['opt'] for el in data], name=\"Оптимизированный алгоритм Винограда\")\n",
    "graph.update_layout(xaxis_title=\"Линейный  размер квадратной матрицы\", yaxis_title=\"Время вычисления, мс\")\n",
    "pio.write_image(graph, \"./Report/images/time.png\", scale=1, width=1076, height=450)\n",
    "graph.show()"
   ]
  }
 ],
 "metadata": {
  "kernelspec": {
   "display_name": "Python 3",
   "language": "python",
   "name": "python3"
  },
  "language_info": {
   "codemirror_mode": {
    "name": "ipython",
    "version": 3
   },
   "file_extension": ".py",
   "mimetype": "text/x-python",
   "name": "python",
   "nbconvert_exporter": "python",
   "pygments_lexer": "ipython3",
   "version": "3.12.6"
  }
 },
 "nbformat": 4,
 "nbformat_minor": 2
}
